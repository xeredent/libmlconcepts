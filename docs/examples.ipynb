{
  "nbformat": 4,
  "nbformat_minor": 0,
  "metadata": {
    "colab": {
      "provenance": [],
      "collapsed_sections": [
        "aNSILXtJrIZI",
        "GtUbdfubrZTX",
        "NJ11iOBUtf32",
        "oK_tVPF-uFlg",
        "r8dP6_x4x64i",
        "LU6lMUPgz1eL",
        "HiLyBtj2z3Gl",
        "YYqdNDVU2ERx",
        "qt5TP8hs9JN8",
        "G3ZQXNP29b4O",
        "M8wIY_0D9eOE",
        "OH_Vwvkt-KG2"
      ]
    },
    "kernelspec": {
      "name": "python3",
      "display_name": "Python 3"
    },
    "language_info": {
      "name": "python"
    }
  },
  "cells": [
    {
      "cell_type": "markdown",
      "source": [
        "\n",
        "\n",
        "# Installation\n"
      ],
      "metadata": {
        "id": "aNSILXtJrIZI"
      }
    },
    {
      "cell_type": "code",
      "source": [
        "pip install mlconcepts pandas scipy h5py"
      ],
      "metadata": {
        "colab": {
          "base_uri": "https://localhost:8080/"
        },
        "id": "aA_AHnZorMkg",
        "outputId": "b6bc42df-8052-4b93-e10d-1118438f0476"
      },
      "execution_count": 1,
      "outputs": [
        {
          "output_type": "stream",
          "name": "stdout",
          "text": [
            "Requirement already satisfied: mlconcepts in /usr/local/lib/python3.10/dist-packages (0.0.1a5)\n",
            "Requirement already satisfied: pandas in /usr/local/lib/python3.10/dist-packages (2.0.3)\n",
            "Requirement already satisfied: scipy in /usr/local/lib/python3.10/dist-packages (1.11.4)\n",
            "Requirement already satisfied: h5py in /usr/local/lib/python3.10/dist-packages (3.9.0)\n",
            "Requirement already satisfied: python-dateutil>=2.8.2 in /usr/local/lib/python3.10/dist-packages (from pandas) (2.8.2)\n",
            "Requirement already satisfied: pytz>=2020.1 in /usr/local/lib/python3.10/dist-packages (from pandas) (2023.4)\n",
            "Requirement already satisfied: tzdata>=2022.1 in /usr/local/lib/python3.10/dist-packages (from pandas) (2024.1)\n",
            "Requirement already satisfied: numpy>=1.21.0 in /usr/local/lib/python3.10/dist-packages (from pandas) (1.25.2)\n",
            "Requirement already satisfied: six>=1.5 in /usr/local/lib/python3.10/dist-packages (from python-dateutil>=2.8.2->pandas) (1.16.0)\n"
          ]
        }
      ]
    },
    {
      "cell_type": "markdown",
      "source": [
        "# Loading data"
      ],
      "metadata": {
        "id": "GtUbdfubrZTX"
      }
    },
    {
      "cell_type": "markdown",
      "source": [
        "\n",
        "The library implements a simple and easily extensible data loader, which allows to import data from different sources, and data frames from other libraries. All these different sources are abstracted by the class `mlconcepts.data.Dataset`, which represent generic datasets with numerical and categorical data, and, possibly, some labels on the items of the dataset (e.g., indicating what elements are outliers, or the class of each element). In the remainder of this document we will use the following utility function that writes the content of a dataset as `numpy.array`s:"
      ],
      "metadata": {
        "id": "z0cwy0Yn2Jcr"
      }
    },
    {
      "cell_type": "code",
      "source": [
        "import os\n",
        "def print_dataset(dataset):\n",
        "    if dataset.X is not None:\n",
        "        print(\"X:\", os.linesep, dataset.X)\n",
        "    if dataset.Xc is not None:\n",
        "        print(\"Xc:\", os.linesep, dataset.Xc)\n",
        "    if dataset.y is not None:\n",
        "        print(\"y:\", os.linesep, dataset.y)"
      ],
      "metadata": {
        "id": "7EyvEJu4xoRM"
      },
      "execution_count": 2,
      "outputs": []
    },
    {
      "cell_type": "markdown",
      "source": [
        "In general, datasets are loaded using the function `mlconcepts.load`, which accepts any type of data that it can transform into a dataset, such as `numpy` arrays, `pandas` dataframes, or paths to files with a known format (csv, xlsx, mat, json, or sql). For instance, let us create a dataset `\"data.csv\"`, which we will load right after."
      ],
      "metadata": {
        "id": "QwIDyv-VxbnB"
      }
    },
    {
      "cell_type": "code",
      "source": [
        "# Writes the dataset |  a  |  b  | color | outlier |\n",
        "#                    | 1.5 |  6  |  red  |    no   |\n",
        "#                    | 2.7 |  1  | green |   yes   |\n",
        "with open(\"data.csv\", \"w\") as f:\n",
        "    f.write(\"a,b,color,outlier\\n\")\n",
        "    f.write(\"1.5,6,red,no\\n\")\n",
        "    f.write(\"2.7,1,green,yes\")"
      ],
      "metadata": {
        "id": "qk3Wxco4sAy7"
      },
      "execution_count": 3,
      "outputs": []
    },
    {
      "cell_type": "code",
      "source": [
        "import mlconcepts\n",
        "dataset = mlconcepts.load(\"data.csv\")\n",
        "print_dataset(dataset)"
      ],
      "metadata": {
        "colab": {
          "base_uri": "https://localhost:8080/"
        },
        "id": "Oh9EaxKUsu8d",
        "outputId": "2bc27bd7-e69e-4573-cdaf-2dde796a430f"
      },
      "execution_count": 4,
      "outputs": [
        {
          "output_type": "stream",
          "name": "stdout",
          "text": [
            "X: \n",
            " [[1.5 6. ]\n",
            " [2.7 1. ]]\n",
            "Xc: \n",
            " [[0 0]\n",
            " [1 1]]\n"
          ]
        }
      ]
    },
    {
      "cell_type": "markdown",
      "source": [
        "The example above loads a dataset suitable for unsupervised machine learning tasks, as no label column is specified in the dataset. To load a dataset with a some labels in the `\"outlier\"` column, we can run"
      ],
      "metadata": {
        "id": "j_IV08bbtIdj"
      }
    },
    {
      "cell_type": "code",
      "source": [
        "dataset = mlconcepts.load(\"data.csv\", labels=\"outlier\")\n",
        "print_dataset(dataset)"
      ],
      "metadata": {
        "colab": {
          "base_uri": "https://localhost:8080/"
        },
        "id": "6V0MJiwyssqk",
        "outputId": "e947eaf7-e5bd-4ee0-8834-ef3682b7832b"
      },
      "execution_count": 5,
      "outputs": [
        {
          "output_type": "stream",
          "name": "stdout",
          "text": [
            "X: \n",
            " [[1.5 6. ]\n",
            " [2.7 1. ]]\n",
            "Xc: \n",
            " [[0]\n",
            " [1]]\n",
            "y: \n",
            " [0 1]\n"
          ]
        }
      ]
    },
    {
      "cell_type": "markdown",
      "source": [
        "### How to load from a numpy array?"
      ],
      "metadata": {
        "id": "NJ11iOBUtf32"
      }
    },
    {
      "cell_type": "markdown",
      "source": [
        "\n",
        "Loading a numpy array is as easy as passing it to the load function:"
      ],
      "metadata": {
        "id": "8wvVBupuxuJZ"
      }
    },
    {
      "cell_type": "code",
      "source": [
        "import numpy\n",
        "import mlconcepts\n",
        "mat = numpy.array([[4.3, 2.4, 1.2], [3.3, 2.1, 0.6]])\n",
        "dataset = mlconcepts.load(mat)\n",
        "print_dataset(dataset)"
      ],
      "metadata": {
        "colab": {
          "base_uri": "https://localhost:8080/"
        },
        "id": "mK_IeGkCtq2z",
        "outputId": "4c4f7da1-b177-4eb9-d5a6-05be32c28e9d"
      },
      "execution_count": 6,
      "outputs": [
        {
          "output_type": "stream",
          "name": "stdout",
          "text": [
            "X: \n",
            " [[4.3 2.4 1.2]\n",
            " [3.3 2.1 0.6]]\n"
          ]
        }
      ]
    },
    {
      "cell_type": "markdown",
      "source": [
        "The dtype of the passed matrix has to be convertible to a floating point number. Categorical data can be added in a second matrix, whose elements must be (convertible to) integers representing an index to the category of each element for every column. For instance, a single categorical feature can be added as follows:"
      ],
      "metadata": {
        "id": "LqDMzv8Ft3hj"
      }
    },
    {
      "cell_type": "code",
      "source": [
        "num = numpy.array([[4.3, 2.4, 1.2], [3.3, 2.1, 0.6]])\n",
        "cat = numpy.array([[2], [1]])\n",
        "dataset = mlconcepts.load(num, Xc=cat)\n",
        "print_dataset(dataset)"
      ],
      "metadata": {
        "colab": {
          "base_uri": "https://localhost:8080/"
        },
        "id": "bgP7ISXXt30f",
        "outputId": "43c7b802-a1f8-4e74-97dd-fc1a5b1b1bb7"
      },
      "execution_count": 7,
      "outputs": [
        {
          "output_type": "stream",
          "name": "stdout",
          "text": [
            "X: \n",
            " [[4.3 2.4 1.2]\n",
            " [3.3 2.1 0.6]]\n",
            "Xc: \n",
            " [[2]\n",
            " [1]]\n"
          ]
        }
      ]
    },
    {
      "cell_type": "markdown",
      "source": [
        "Similarly, labels can added by setting the parameter \"y\" to a (numpy) vector whose dtype is convertible to integers. For instance, to say that the first element is an outlier, and the second is not:"
      ],
      "metadata": {
        "id": "NTXqWvdst4JZ"
      }
    },
    {
      "cell_type": "code",
      "source": [
        "num = numpy.array([[4.3, 2.4, 1.2], [3.3, 2.1, 0.6]])\n",
        "cat = numpy.array([[2], [1]])\n",
        "outliers = numpy.array([1, 0])\n",
        "dataset = mlconcepts.load(num, Xc=cat, y=outliers)\n",
        "print_dataset(dataset)"
      ],
      "metadata": {
        "colab": {
          "base_uri": "https://localhost:8080/"
        },
        "id": "VOCKTblHt4ch",
        "outputId": "af8bf38f-b970-4d91-f74c-be4a18571bf9"
      },
      "execution_count": 8,
      "outputs": [
        {
          "output_type": "stream",
          "name": "stdout",
          "text": [
            "X: \n",
            " [[4.3 2.4 1.2]\n",
            " [3.3 2.1 0.6]]\n",
            "Xc: \n",
            " [[2]\n",
            " [1]]\n",
            "y: \n",
            " [1 0]\n"
          ]
        }
      ]
    },
    {
      "cell_type": "markdown",
      "source": [
        "### How to load from a pandas dataframe?"
      ],
      "metadata": {
        "id": "oK_tVPF-uFlg"
      }
    },
    {
      "cell_type": "markdown",
      "source": [
        "Pandas dataframes can be loaded by just passing them to the load function, e.g.,"
      ],
      "metadata": {
        "id": "4f0DkHv2uKn5"
      }
    },
    {
      "cell_type": "code",
      "source": [
        "import pandas\n",
        "df = pandas.DataFrame({\"a\" : [4.2, 1.2], \"b\" : [\"no\", \"yes\"]})\n",
        "data = mlconcepts.load(df)\n",
        "print_dataset(data)"
      ],
      "metadata": {
        "colab": {
          "base_uri": "https://localhost:8080/"
        },
        "id": "LvQov8vGuK-n",
        "outputId": "fde2bd9b-0c9a-41ee-9d06-a103f2fec654"
      },
      "execution_count": 9,
      "outputs": [
        {
          "output_type": "stream",
          "name": "stdout",
          "text": [
            "X: \n",
            " [[4.2]\n",
            " [1.2]]\n",
            "Xc: \n",
            " [[0]\n",
            " [1]]\n"
          ]
        }
      ]
    },
    {
      "cell_type": "markdown",
      "source": [
        "The loading function automatically detects that \"b\" is a categorical feature and stores it as such. Labels can be set by indicating a suitable column (categorical or integer) as follows:"
      ],
      "metadata": {
        "id": "iKUaPJgHuLOh"
      }
    },
    {
      "cell_type": "code",
      "source": [
        "df = pandas.DataFrame({\"a\" : [4.2, 1.2], \"b\" : [\"no\", \"yes\"]})\n",
        "data = mlconcepts.load(df, labels=\"b\")\n",
        "print_dataset(data)"
      ],
      "metadata": {
        "colab": {
          "base_uri": "https://localhost:8080/"
        },
        "id": "UCCT1kX1uLWg",
        "outputId": "2ee56643-fe62-4e24-c4ce-36e41c732ee3"
      },
      "execution_count": 10,
      "outputs": [
        {
          "output_type": "stream",
          "name": "stdout",
          "text": [
            "X: \n",
            " [[4.2]\n",
            " [1.2]]\n",
            "y: \n",
            " [0 1]\n"
          ]
        }
      ]
    },
    {
      "cell_type": "markdown",
      "source": [
        "Alternatively, a label column can be specified as a numpy array as follows:"
      ],
      "metadata": {
        "id": "Gx1BdslruLeo"
      }
    },
    {
      "cell_type": "code",
      "source": [
        "df = pandas.DataFrame({\"a\" : [4.2, 1.2], \"b\" : [\"no\", \"yes\"]})\n",
        "outliers = numpy.array([1, 0])\n",
        "data = mlconcepts.load(df, y=outliers)\n",
        "print_dataset(data)"
      ],
      "metadata": {
        "colab": {
          "base_uri": "https://localhost:8080/"
        },
        "id": "AKdfuna1uLmN",
        "outputId": "48131c16-8c65-4ec1-fc1c-04ff0069f824"
      },
      "execution_count": 11,
      "outputs": [
        {
          "output_type": "stream",
          "name": "stdout",
          "text": [
            "X: \n",
            " [[4.2]\n",
            " [1.2]]\n",
            "Xc: \n",
            " [[0]\n",
            " [1]]\n",
            "y: \n",
            " [1 0]\n"
          ]
        }
      ]
    },
    {
      "cell_type": "markdown",
      "source": [
        "### How to load a matlab file?"
      ],
      "metadata": {
        "id": "r8dP6_x4x64i"
      }
    },
    {
      "cell_type": "markdown",
      "source": [
        "To load from a matlab file, we need to tell mlconcepts what are the names of the matlab variables containing the data. To do so, we pass a map containing the parameters \"Xname\", \"Xcname\", \"yname\", which default to \"X\", \"Xc\", and \"y\", respectively. For instance, to load from a matlab file `mammography.mat` (you can download it [here](https://odds.cs.stonybrook.edu/mammography-dataset/)) where numerical data is in a matrix `X`, and the labels are in a vector `y`, run"
      ],
      "metadata": {
        "id": "xZZTs2N3x-zv"
      }
    },
    {
      "cell_type": "code",
      "source": [
        "data = mlconcepts.load(\"mammography.mat\",\n",
        "                       settings={ \"Xname\" : \"X\", \"yname\" : \"y\" })\n",
        "print_dataset(data)"
      ],
      "metadata": {
        "colab": {
          "base_uri": "https://localhost:8080/"
        },
        "id": "1sqIbAWDzcDC",
        "outputId": "5fc96e72-882e-4f0c-e128-04ce27b80cdf"
      },
      "execution_count": 12,
      "outputs": [
        {
          "output_type": "stream",
          "name": "stdout",
          "text": [
            "X: \n",
            " [[ 0.23001961  5.0725783  -0.27606055  0.83244412 -0.37786573  0.4803223 ]\n",
            " [ 0.15549112 -0.16939038  0.67065219 -0.85955255 -0.37786573 -0.94572324]\n",
            " [-0.78441482 -0.44365372  5.6747053  -0.85955255 -0.37786573 -0.94572324]\n",
            " ...\n",
            " [ 1.2049878   1.7637238  -0.50146835  1.5624078   6.4890725   0.93129397]\n",
            " [ 0.73664398 -0.22247361 -0.05065276  1.5096647   0.53926914  1.3152293 ]\n",
            " [ 0.17700275 -0.19150839 -0.50146835  1.5788636   7.750705    1.5559507 ]]\n",
            "y: \n",
            " [[0]\n",
            " [0]\n",
            " [0]\n",
            " ...\n",
            " [1]\n",
            " [1]\n",
            " [1]]\n"
          ]
        }
      ]
    },
    {
      "cell_type": "markdown",
      "source": [
        "### How to load categorical data?"
      ],
      "metadata": {
        "id": "LU6lMUPgz1eL"
      }
    },
    {
      "cell_type": "markdown",
      "source": [
        "Most dataloaders handle categorical data automatically, as it is usually not hard to distinguish it from numerical data. The only exception is when you want to consider a column of integers to be categorical. In this case the parameter \"categorical\" can be used to specify a list of features which are in principle numerical, but should be considered as categorical, e.g.,"
      ],
      "metadata": {
        "id": "TVbE-akRz2P5"
      }
    },
    {
      "cell_type": "code",
      "source": [
        "df = pandas.DataFrame({ 'age' : [32, 86], 'has_internet_plan' : [1, 0] })\n",
        "data = mlconcepts.load(df, categorical=[\"has_internet_plan\"])\n",
        "print_dataset(data)"
      ],
      "metadata": {
        "colab": {
          "base_uri": "https://localhost:8080/"
        },
        "id": "90RNCGvoz2ma",
        "outputId": "1bd5b546-726c-4199-ad98-0694b167427e"
      },
      "execution_count": 13,
      "outputs": [
        {
          "output_type": "stream",
          "name": "stdout",
          "text": [
            "X: \n",
            " [[32.]\n",
            " [86.]]\n",
            "Xc: \n",
            " [[0]\n",
            " [1]]\n"
          ]
        }
      ]
    },
    {
      "cell_type": "markdown",
      "source": [
        "### How to generate splits of a dataset?"
      ],
      "metadata": {
        "id": "HiLyBtj2z3Gl"
      }
    },
    {
      "cell_type": "markdown",
      "source": [
        "mlconcept's Dataset objects support splitting using any split generator, i.e., an object with a method <em>split</em>, which, given the dataset, returns a generator yielding a set of indices used to sample the training set, and a set of indices used to sample the test set.\n",
        "\n",
        "For example, all the split generators of sklearn are supported, as shown in the following snippet"
      ],
      "metadata": {
        "id": "HmaD-Unw0bQt"
      }
    },
    {
      "cell_type": "code",
      "source": [
        "import sklearn.model_selection\n",
        "df = pandas.DataFrame({\n",
        "    \"a\" : [1.4, 2.2, 7.3, 2.5, 4.6, 3.5, 9.8, 4.5, 1.3, 10.5],\n",
        "    \"c\" : [\"y\", \"n\", \"y\", \"y\", \"n\", \"n\", \"n\", \"y\", \"y\", \"y\"],\n",
        "    \"o\" : [1, 1, 1, 0, 0, 1, 1, 0, 0, 0]\n",
        "})\n",
        "data = mlconcepts.load(df, labels = \"o\")\n",
        "\n",
        "skf = sklearn.model_selection.StratifiedKFold(n_splits = 2, shuffle = True)\n",
        "for train, test in data.split(skf):\n",
        "    print_dataset(train)\n",
        "    print_dataset(test)"
      ],
      "metadata": {
        "colab": {
          "base_uri": "https://localhost:8080/"
        },
        "id": "u_Wmk4ed0eVT",
        "outputId": "d6fd86cb-2cbe-4b5c-cf5d-16a4adfa0d3e"
      },
      "execution_count": 14,
      "outputs": [
        {
          "output_type": "stream",
          "name": "stdout",
          "text": [
            "X: \n",
            " [[ 1.4]\n",
            " [ 4.6]\n",
            " [ 9.8]\n",
            " [ 1.3]\n",
            " [10.5]]\n",
            "Xc: \n",
            " [[0]\n",
            " [1]\n",
            " [1]\n",
            " [0]\n",
            " [0]]\n",
            "y: \n",
            " [1 0 1 0 0]\n",
            "X: \n",
            " [[2.2]\n",
            " [7.3]\n",
            " [2.5]\n",
            " [3.5]\n",
            " [4.5]]\n",
            "Xc: \n",
            " [[1]\n",
            " [0]\n",
            " [0]\n",
            " [1]\n",
            " [0]]\n",
            "y: \n",
            " [1 1 0 1 0]\n",
            "X: \n",
            " [[2.2]\n",
            " [7.3]\n",
            " [2.5]\n",
            " [3.5]\n",
            " [4.5]]\n",
            "Xc: \n",
            " [[1]\n",
            " [0]\n",
            " [0]\n",
            " [1]\n",
            " [0]]\n",
            "y: \n",
            " [1 1 0 1 0]\n",
            "X: \n",
            " [[ 1.4]\n",
            " [ 4.6]\n",
            " [ 9.8]\n",
            " [ 1.3]\n",
            " [10.5]]\n",
            "Xc: \n",
            " [[0]\n",
            " [1]\n",
            " [1]\n",
            " [0]\n",
            " [0]]\n",
            "y: \n",
            " [1 0 1 0 0]\n"
          ]
        }
      ]
    },
    {
      "cell_type": "markdown",
      "source": [
        "# Models"
      ],
      "metadata": {
        "id": "YYqdNDVU2ERx"
      }
    },
    {
      "cell_type": "markdown",
      "source": [
        "The library currently exposes two classes for outlier detection: `UODModel` for unsupervised OD, and `SODModel` for supervised OD. Models can simply be created as follows:"
      ],
      "metadata": {
        "id": "KChaAjTx4NSz"
      }
    },
    {
      "cell_type": "code",
      "source": [
        "unsup_model = mlconcepts.UODModel()\n",
        "sup_model = mlconcepts.SODModel()"
      ],
      "metadata": {
        "id": "MpE8_AAa4N4-"
      },
      "execution_count": 22,
      "outputs": []
    },
    {
      "cell_type": "markdown",
      "source": [
        "After a model is created, the methods `fit`, `predict`, and `predict_explain` train the model, compute predictions for some set, and compute predictions with accompanying explanations for a set, respectively. These three methods can either take a `mlconcepts.data.Dataset` object, or can be called with the same signature as the method `mlconcepts.load` [described above](#Datasets). In the latter case, a dataset is loaded by forwarding the arguments to the function `mlconcepts.load`, and then the task is executed on that dataset.\n",
        "\n",
        "For instance, the following basic example trains a supervised model on a dataset `trainset` and computes predictions on the dataset `data`."
      ],
      "metadata": {
        "id": "ZRsbdMBx4OHa"
      }
    },
    {
      "cell_type": "code",
      "source": [
        "import pandas\n",
        "trainset = mlconcepts.load(pandas.DataFrame({\n",
        "    \"f\": [5.6, 6.6, 1.2, 9.6, 3.5, 8.9],\n",
        "    \"g\" : [1, 1, 1, 1, 1, 1],\n",
        "    \"h\" : [2, 2, 2, 7, 2, 7],\n",
        "    \"outlier\" : [0, 0, 0, 1, 0, 1]\n",
        "}), labels = \"outlier\")\n",
        "data = mlconcepts.load(pandas.DataFrame({\n",
        "    \"f\": [1.1, 9.0],\n",
        "    \"g:\": [1, 1],\n",
        "    \"h\": [2, 7],\n",
        "    \"outlier\" : [0, 1]\n",
        "}), labels = \"outlier\")\n",
        "model = mlconcepts.SODModel(n=64, epochs=100)\n",
        "model.fit(trainset)\n",
        "predictions = model.predict(data)\n",
        "print(predictions)\n"
      ],
      "metadata": {
        "colab": {
          "base_uri": "https://localhost:8080/"
        },
        "id": "iQWdDm234OUc",
        "outputId": "200e98fa-59e1-46a3-cb39-6b7556317973"
      },
      "execution_count": 23,
      "outputs": [
        {
          "output_type": "stream",
          "name": "stdout",
          "text": [
            "[0.33570436 0.92473796]\n"
          ]
        }
      ]
    },
    {
      "cell_type": "markdown",
      "source": [
        "Similarly, explanation data can be extracted by running `predict_explain` as follows:"
      ],
      "metadata": {
        "id": "LD-B9hsQ4Off"
      }
    },
    {
      "cell_type": "code",
      "source": [
        "explanations = model.predict_explain(data)\n",
        "print(explanations[0]) # prints the explanations for the first element\n",
        "print(explanations[1]) # prints the explanations for the second element"
      ],
      "metadata": {
        "colab": {
          "base_uri": "https://localhost:8080/"
        },
        "id": "5cVOZ8ST6XiK",
        "outputId": "77945100-1a3f-4df3-b1c3-da684ee7e9fe"
      },
      "execution_count": 24,
      "outputs": [
        {
          "output_type": "stream",
          "name": "stdout",
          "text": [
            "Prediction: 0.33570436442575713. Explainers: { { f } : 0.4223886096968753, { f, h } : 0.39364539123871706, { g: } : 8.826424838925244e-08 }\n",
            "Prediction: 0.9247379562839234. Explainers: { { f } : 1.1481712822870962, { f, h } : 1.070039113860856, { h } : 0.6610560865403848 }\n"
          ]
        }
      ]
    },
    {
      "cell_type": "markdown",
      "source": [
        "Of course, the explanation data in this dummy example does not make too much sense, but it can be seen that the model values the feature `f` for making a prediction, while it essentially diregards `g`."
      ],
      "metadata": {
        "id": "Mw8yncrp60OY"
      }
    },
    {
      "cell_type": "markdown",
      "source": [
        "### Parameters for unsupervised models"
      ],
      "metadata": {
        "id": "qt5TP8hs9JN8"
      }
    },
    {
      "cell_type": "markdown",
      "source": [
        "Unsupervised models support parameters that guide the way in which the underlying FCA algorithm works:"
      ],
      "metadata": {
        "id": "JmYk0z839QFQ"
      }
    },
    {
      "cell_type": "code",
      "source": [
        "model = mlconcepts.UODModel(\n",
        "\tn=32, # number of bins for numerical feature quantization\n",
        "\tquantizer=\"uniform\", # numerical features are uniformly split in bins\n",
        "\texplorer=\"none\", # strategy to explore different feature sets\n",
        "\tsingletons=True, # whether to explore all single element sets\n",
        "\tdoubletons=True, # whether to explore all two-elements sets\n",
        "\tfull=True # whether to explorer the set of all features\n",
        ")"
      ],
      "metadata": {
        "id": "lmu4C9Xw9QUG"
      },
      "execution_count": 25,
      "outputs": []
    },
    {
      "cell_type": "markdown",
      "source": [
        "The first two parameters concern the treatment of numerical features. Numerical features are indeed quantized into cateogrical ones in a first step. The only supported quantizer at the time of writing is `uniform`.\n",
        "\n",
        "To make its predictions, the algorithm essentially creates different agents which make a prediction considering different perspectives, i.e., different feature sets they observe. At the end all the agents combine their scores into a final prediction. The `explorer` determines what agents to generate. Currently, in the stable version of the program, only `none` is supported. The last three parameters set the agents which are generated at the start. The indicated explorer is then used to generate more agents (to consider more feature sets) depending on which are more promising."
      ],
      "metadata": {
        "id": "DZ7m6V_89QtO"
      }
    },
    {
      "cell_type": "markdown",
      "source": [
        "### Parameters for supervised models"
      ],
      "metadata": {
        "id": "G3ZQXNP29b4O"
      }
    },
    {
      "cell_type": "markdown",
      "source": [
        "Supervised models support all parameters of unsupervised models, plus parameters for gradient descent:"
      ],
      "metadata": {
        "id": "KHz3lbFs9d_7"
      }
    },
    {
      "cell_type": "code",
      "source": [
        "model = mlconcepts.SODModel(\n",
        "    epochs=1000, # maximum number of training iterations\n",
        "    show_training=True, # whether to show training information in the terminal\n",
        "    learning_rate=0.01, # learning rate for gradient descent\n",
        "    momentum=0.01, # momentum for gradient descent\n",
        "    stop_threshold=0.001 # loss change under which training is halted\n",
        ")"
      ],
      "metadata": {
        "id": "ded2sk5D9eIE"
      },
      "execution_count": 26,
      "outputs": []
    },
    {
      "cell_type": "markdown",
      "source": [
        "### What is the output of predict_explain?"
      ],
      "metadata": {
        "id": "M8wIY_0D9eOE"
      }
    },
    {
      "cell_type": "markdown",
      "source": [
        "The method `predict_explain` returns an `ExplanationData` object. ExplanationData overrides the subscript operator, so as to return an `ExplanationEntry` for any index of an element in the dataset the prediction was computed on. An `ExplanationEntry` is an iterable, which, when iterated over, returns pairs (set of feature, importance). The pairs are yielded in decreasing order with respect to their importance.\n",
        "\n",
        "Roughly speaking, each set of features is mapped to its relevance in making a prediction in the model.\n",
        "\n",
        "The following snippet shows the relevance of every (computed) feature set of the second item in a dataset:"
      ],
      "metadata": {
        "id": "CU0LI-W_9kwl"
      }
    },
    {
      "cell_type": "code",
      "source": [
        "for feature_set, relevance in explanations[0]:\n",
        "    print(feature_set, relevance)"
      ],
      "metadata": {
        "colab": {
          "base_uri": "https://localhost:8080/"
        },
        "id": "vDyLA2Pq9tH_",
        "outputId": "af727967-579f-4313-ce13-34129c5b8b0c"
      },
      "execution_count": 27,
      "outputs": [
        {
          "output_type": "stream",
          "name": "stdout",
          "text": [
            "{ f } 0.4223886096968753\n",
            "{ f, h } 0.39364539123871706\n",
            "{ g: } 8.826424838925244e-08\n",
            "{ h } 7.439206219805188e-08\n",
            "{ g:, h } 3.215917183791385e-08\n",
            "full -0.04781196671852176\n",
            "{ f, g: } -0.1459617584479418\n"
          ]
        }
      ]
    },
    {
      "cell_type": "markdown",
      "source": [
        "### A slightly more complicated example"
      ],
      "metadata": {
        "id": "OH_Vwvkt-KG2"
      }
    },
    {
      "cell_type": "markdown",
      "source": [
        "The following example shows how to load a dataset, generate splits, and compute its performance (AUC score). It requires you to upload the `mammography.mat` dataset (which you can download [here](https://odds.cs.stonybrook.edu/mammography-dataset/))."
      ],
      "metadata": {
        "id": "scJTu8UH-LBg"
      }
    },
    {
      "cell_type": "code",
      "source": [
        "import sklearn.model_selection\n",
        "import sklearn.metrics\n",
        "import mlconcepts\n",
        "\n",
        "data = mlconcepts.load(\"mammography.mat\")\n",
        "\n",
        "skf = sklearn.model_selection.StratifiedKFold(n_splits = 4, shuffle = True)\n",
        "for train, test in data.split(skf):\n",
        "    model = mlconcepts.SODModel(n=64, epochs=1000)\n",
        "    model.fit(train)\n",
        "    predictions = model.predict(test)\n",
        "    print(\"AUC: \", sklearn.metrics.roc_auc_score(test.y, predictions))"
      ],
      "metadata": {
        "colab": {
          "base_uri": "https://localhost:8080/"
        },
        "id": "J1Em9iHp-LSo",
        "outputId": "3ee7e2eb-223e-4bee-a86d-829a32d3d521"
      },
      "execution_count": 28,
      "outputs": [
        {
          "output_type": "stream",
          "name": "stdout",
          "text": [
            "AUC:  0.8958369715235331\n",
            "AUC:  0.878756724783821\n",
            "AUC:  0.905498126918852\n",
            "AUC:  0.8527078050154973\n"
          ]
        }
      ]
    }
  ]
}